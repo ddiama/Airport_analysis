{
 "cells": [
  {
   "cell_type": "markdown",
   "id": "5b0c0551",
   "metadata": {},
   "source": [
    "# Norway - Airport analysis script\n",
    "### Date: 3/3/2023"
   ]
  },
  {
   "cell_type": "code",
   "execution_count": 1,
   "id": "184039a7",
   "metadata": {},
   "outputs": [],
   "source": [
    "country = \"Norway\""
   ]
  },
  {
   "cell_type": "markdown",
   "id": "3e0af362",
   "metadata": {},
   "source": [
    "## Import libraries"
   ]
  },
  {
   "cell_type": "code",
   "execution_count": 2,
   "id": "34d2888f",
   "metadata": {},
   "outputs": [],
   "source": [
    "import json\n",
    "import numpy as np\n",
    "import matplotlib.pyplot as plt\n",
    "import pandas as pd\n",
    "import geoplot as gplt\n",
    "import geopandas as gpd\n",
    "from haversine import haversine, Unit\n",
    "from matplotlib.font_manager import FontProperties"
   ]
  },
  {
   "cell_type": "markdown",
   "id": "a7de5bf4",
   "metadata": {},
   "source": [
    "## Open json file"
   ]
  },
  {
   "cell_type": "code",
   "execution_count": 3,
   "id": "83512544",
   "metadata": {},
   "outputs": [],
   "source": [
    "# Opening JSON file\n",
    "f = open(\"openaip_data/%s_airports.json\"%(country))\n",
    "  \n",
    "# returns JSON object as \n",
    "# a dictionary\n",
    "data = json.load(f)\n",
    "\n",
    "# Closing file\n",
    "f.close()"
   ]
  },
  {
   "cell_type": "code",
   "execution_count": 4,
   "id": "e701c884",
   "metadata": {},
   "outputs": [],
   "source": [
    "datadict = {}\n",
    "for item in data:\n",
    "    name = item['_id']\n",
    "    datadict[name] = item"
   ]
  },
  {
   "cell_type": "markdown",
   "id": "5fe5dec9",
   "metadata": {},
   "source": [
    "## Drop columns and keep only approved airports"
   ]
  },
  {
   "cell_type": "code",
   "execution_count": 5,
   "id": "f2ffa16e",
   "metadata": {},
   "outputs": [],
   "source": [
    "# Convert to dataframe\n",
    "df = pd.DataFrame.from_dict(datadict, orient='index')\n",
    "\n",
    "# Drop unneccessary columns\n",
    "df = df.drop(labels=['_id','updatedAt', 'createdAt', 'createdBy', \n",
    "                     'updatedBy', 'contact', 'images', 'services', \n",
    "                     'skydiveActivity', 'ppr', 'country', 'elevationGeoid', \n",
    "                     'frequencies', 'magneticDeclination'], axis=1)\n",
    "\n",
    "# Drop non-approved airports\n",
    "df_approved = df[df['approved'] == True]\n",
    "df_approved = df_approved.drop(labels=['approved'], axis=1)\n",
    "df2 = df_approved.set_index('name')"
   ]
  },
  {
   "cell_type": "markdown",
   "id": "38ca1d30",
   "metadata": {},
   "source": [
    "## Keep only appropriate airports"
   ]
  },
  {
   "cell_type": "markdown",
   "id": "56def1d2",
   "metadata": {},
   "source": [
    "### Airport types\n",
    "0:  Airport (civil/military)\n",
    "1:  Glider Site\n",
    "2:  Airfield Civil\n",
    "3:  International Airport\n",
    "4:  Heliport Military\n",
    "5:  Military Aerodrome\n",
    "6:  Ultra Light Flying Site\n",
    "7:  Heliport Civil\n",
    "8:  Aerodrome Closed\n",
    "9:  Airport resp. Airfield IFR\n",
    "10: Airfield Water\n",
    "11: Landing Strip\n",
    "12: Agricultural Landing Strip\n",
    "13: Altiport"
   ]
  },
  {
   "cell_type": "code",
   "execution_count": 6,
   "id": "059c0d32",
   "metadata": {},
   "outputs": [],
   "source": [
    "df_airports =  df2[(df2['type'] == 0) |\n",
    "                    (df2['type'] == 2) |\n",
    "                    (df2['type'] == 3)]# |\n",
    "#                     (df2['type'] == 9) |\n",
    "#                     (df2['type'] == 11) ]\n",
    "\n",
    "df2_airports =  df_airports[pd.notnull(df_airports['icaoCode'])]\n",
    "\n",
    "# Keep only public airports\n",
    "df3_airports =  df2_airports[(df2_airports['private'] == False)]\n",
    "# Remove winch only airports\n",
    "df4_airports =  df3_airports[(df3_airports['winchOnly'] == False)]\n",
    "# Drop these columns\n",
    "df5_airports =  df4_airports.drop(labels=['private', 'winchOnly'], axis=1)"
   ]
  },
  {
   "cell_type": "code",
   "execution_count": 7,
   "id": "0f560db8",
   "metadata": {},
   "outputs": [],
   "source": [
    "filtered_df = df5_airports[df5_airports['runways'].apply(lambda x: isinstance(x, list) and np.any(np.array([runway['surface']['composition'] == [0] for runway in x])))]"
   ]
  },
  {
   "cell_type": "code",
   "execution_count": 8,
   "id": "5d5d9243",
   "metadata": {},
   "outputs": [
    {
     "name": "stderr",
     "output_type": "stream",
     "text": [
      "C:\\Users\\deu01\\AppData\\Local\\Temp/ipykernel_25828/2791913247.py:6: SettingWithCopyWarning: \n",
      "A value is trying to be set on a copy of a slice from a DataFrame.\n",
      "Try using .loc[row_indexer,col_indexer] = value instead\n",
      "\n",
      "See the caveats in the documentation: https://pandas.pydata.org/pandas-docs/stable/user_guide/indexing.html#returning-a-view-versus-a-copy\n",
      "  filtered_df['elevation_m'] = elevation_list\n"
     ]
    }
   ],
   "source": [
    "# Assign the elevation as a new column\n",
    "elevation_list = []\n",
    "for i in range(0,len(filtered_df)):\n",
    "    elevation_list.append(filtered_df.iloc[i][\"elevation\"]['value'])\n",
    "    \n",
    "filtered_df['elevation_m'] = elevation_list\n",
    "df6_airports =  filtered_df.drop(labels=['elevation'], axis=1)"
   ]
  },
  {
   "cell_type": "code",
   "execution_count": 9,
   "id": "fe4fec05",
   "metadata": {},
   "outputs": [],
   "source": [
    "# Assign the latitute and longitute as new columns\n",
    "latitude_deg = []\n",
    "longitude_deg = []\n",
    "\n",
    "for i in range(0,len(df6_airports)):\n",
    "    longitude_deg.append(df6_airports.iloc[i][\"geometry\"]['coordinates'][0])\n",
    "    latitude_deg.append(df6_airports.iloc[i][\"geometry\"]['coordinates'][1])\n",
    "    \n",
    "df6_airports['latitude_deg'] = latitude_deg\n",
    "df6_airports['longitude_deg'] = longitude_deg\n",
    "airports =  df6_airports.drop(labels=['geometry'], axis=1)"
   ]
  },
  {
   "cell_type": "code",
   "execution_count": 10,
   "id": "6be18c90",
   "metadata": {},
   "outputs": [],
   "source": [
    "g_airports = gpd.GeoDataFrame(airports, geometry=gpd.points_from_xy(airports.longitude_deg, airports.latitude_deg))"
   ]
  },
  {
   "cell_type": "code",
   "execution_count": 11,
   "id": "177fe6bf",
   "metadata": {
    "scrolled": false
   },
   "outputs": [
    {
     "name": "stdout",
     "output_type": "stream",
     "text": [
      "Number of airports in Norway is 24\n"
     ]
    }
   ],
   "source": [
    "print(\"Number of airports in %s is %s\" % (country, len(airports)))"
   ]
  },
  {
   "cell_type": "code",
   "execution_count": 12,
   "id": "c144e763",
   "metadata": {},
   "outputs": [],
   "source": [
    "g_airports.to_csv(\"norway_airports.csv\",index=False)"
   ]
  },
  {
   "cell_type": "markdown",
   "id": "7e838efc",
   "metadata": {},
   "source": [
    "## Load geographical coordinates"
   ]
  },
  {
   "cell_type": "code",
   "execution_count": 13,
   "id": "260edc8a",
   "metadata": {},
   "outputs": [],
   "source": [
    "world = gpd.read_file(\"openaip_data/ne_10m_admin_1_states_provinces.shp\")"
   ]
  },
  {
   "cell_type": "code",
   "execution_count": 14,
   "id": "0ef3ac59",
   "metadata": {},
   "outputs": [],
   "source": [
    "country_map = world[world['admin'] == '%s'%(country)]  # Filter out Sweden from the world"
   ]
  },
  {
   "cell_type": "markdown",
   "id": "4e801db0",
   "metadata": {},
   "source": [
    "## Plot airport distribution"
   ]
  },
  {
   "cell_type": "code",
   "execution_count": 15,
   "id": "e2d0c1f6",
   "metadata": {},
   "outputs": [
    {
     "name": "stderr",
     "output_type": "stream",
     "text": [
      "C:\\Users\\deu01\\Anaconda3\\lib\\site-packages\\cartopy\\crs.py:245: ShapelyDeprecationWarning: __len__ for multi-part geometries is deprecated and will be removed in Shapely 2.0. Check the length of the `geoms` property instead to get the  number of parts of a multi-part geometry.\n",
      "  if len(multi_line_string) > 1:\n",
      "C:\\Users\\deu01\\Anaconda3\\lib\\site-packages\\cartopy\\crs.py:297: ShapelyDeprecationWarning: Iteration over multi-part geometries is deprecated and will be removed in Shapely 2.0. Use the `geoms` property to access the constituent parts of a multi-part geometry.\n",
      "  for line in multi_line_string:\n",
      "C:\\Users\\deu01\\Anaconda3\\lib\\site-packages\\cartopy\\crs.py:364: ShapelyDeprecationWarning: __len__ for multi-part geometries is deprecated and will be removed in Shapely 2.0. Check the length of the `geoms` property instead to get the  number of parts of a multi-part geometry.\n",
      "  if len(p_mline) > 0:\n"
     ]
    },
    {
     "data": {
      "text/plain": [
       "<Figure size 2880x1800 with 0 Axes>"
      ]
     },
     "metadata": {},
     "output_type": "display_data"
    },
    {
     "data": {
      "image/png": "[encoded data removed]",
      "text/plain": [
       "<Figure size 576x432 with 2 Axes>"
      ]
     },
     "metadata": {
      "needs_background": "light"
     },
     "output_type": "display_data"
    }
   ],
   "source": [
    "plt.figure(figsize = [40,25])\n",
    "\n",
    "ax = gplt.webmap(country_map, projection=gplt.crs.WebMercator())\n",
    "ax2 = gplt.polyplot(country_map, zorder=-1, ax=ax )\n",
    "\n",
    "# With circles\n",
    "# ax3 = gplt.pointplot(\n",
    "#                 g_airports_SE, \n",
    "#                 ax=ax, \n",
    "#                 hue='elevation_m',\n",
    "#                 cmap=\"Blues\",\n",
    "#                 edgecolor='black',\n",
    "#                 scale=\"elevation_m\",\n",
    "#                 limits=(1, 10),\n",
    "#                 linewidth = 0.5,\n",
    "#                 legend=True,\n",
    "#                 legend_var=\"scale\")\n",
    "\n",
    "ax4 = gplt.pointplot(\n",
    "                g_airports, \n",
    "                ax=ax, \n",
    "                hue='elevation_m',\n",
    "                cmap=\"Blues\",\n",
    "                edgecolor='black',\n",
    "                linewidth = 0.5,\n",
    "                legend=True)\n",
    "\n",
    "plt.title(\"Airport distribution in %s\"%(country))\n",
    "\n",
    "plt.savefig(\"plots/%s/%s_aiports.png\"%(country, country),\n",
    "            bbox_inches =\"tight\",\n",
    "            pad_inches = 0.5,\n",
    "            transparent = False,\n",
    "            facecolor =\"w\",\n",
    "            edgecolor ='w',\n",
    "            dpi=300)"
   ]
  },
  {
   "cell_type": "markdown",
   "id": "25a567a1",
   "metadata": {},
   "source": [
    "## Airport distance analysis"
   ]
  },
  {
   "cell_type": "code",
   "execution_count": 16,
   "id": "77175762",
   "metadata": {},
   "outputs": [],
   "source": [
    "# Create \"correlation matrix\"\n",
    "Haversine_dist = np.zeros((len(airports),len(airports)))"
   ]
  },
  {
   "cell_type": "code",
   "execution_count": 17,
   "id": "35d5cdc4",
   "metadata": {},
   "outputs": [],
   "source": [
    "for start_airport_num in range(0,len(airports)):\n",
    "    \n",
    "    for finish_airport_num in range(0,len(airports)):\n",
    "        \n",
    "        loc1 = (airports.iloc[start_airport_num].longitude_deg,airports.iloc[start_airport_num].latitude_deg)\n",
    "        loc2 = (airports.iloc[finish_airport_num].longitude_deg,airports.iloc[finish_airport_num].latitude_deg) \n",
    "        dist = haversine(loc1,loc2, unit=Unit.NAUTICAL_MILES)\n",
    "        \n",
    "        Haversine_dist[start_airport_num,finish_airport_num] = dist"
   ]
  },
  {
   "cell_type": "code",
   "execution_count": 18,
   "id": "2061f9c0",
   "metadata": {},
   "outputs": [],
   "source": [
    "# Add nan values in the lower matrix triangle\n",
    "il1 = np.tril_indices(len(airports))\n",
    "Haversine_dist[il1] = np.nan"
   ]
  },
  {
   "cell_type": "code",
   "execution_count": 19,
   "id": "a7e63d5a",
   "metadata": {},
   "outputs": [
    {
     "data": {
      "image/png": "[encoded data removed]",
      "text/plain": [
       "<Figure size 1080x720 with 1 Axes>"
      ]
     },
     "metadata": {
      "needs_background": "light"
     },
     "output_type": "display_data"
    }
   ],
   "source": [
    "# Plot histogram of airport distance\n",
    "data = Haversine_dist.ravel()[~np.isnan(Haversine_dist.ravel())]\n",
    "\n",
    "ftsize = 14\n",
    "plt.figure(figsize = [15,10])\n",
    "\n",
    "plt.hist(data, bins=10,  color='black', alpha=1, rwidth=0.85)\n",
    "plt.axvline(np.median(data), color='red', linestyle='dashed', linewidth=3)\n",
    "\n",
    "min_ylim, max_ylim = plt.ylim()\n",
    "plt.text(np.median(data)*1.11, max_ylim*0.9, 'Median: {:.0f} nm'.format(np.median(data)), fontsize = ftsize,\n",
    "         bbox=dict(facecolor='white', edgecolor='black', pad=5.0))\n",
    "\n",
    "plt.title(\"Airport distance histogram - %s\"%(country), fontsize = 18)\n",
    "plt.xlabel('Airport distance [nm]', fontsize = ftsize)\n",
    "plt.ylabel('Frequency', fontsize = ftsize)\n",
    "plt.yticks(fontsize=ftsize)\n",
    "plt.xticks(fontsize=ftsize)\n",
    "\n",
    "plt.savefig(\"plots/%s/distance_distribution_%s.png\"%(country, country),\n",
    "            bbox_inches =\"tight\",\n",
    "            pad_inches = 0.5,\n",
    "            transparent = False,\n",
    "            facecolor =\"w\",\n",
    "            edgecolor ='w',\n",
    "            dpi=300)"
   ]
  },
  {
   "cell_type": "code",
   "execution_count": 20,
   "id": "e02e212b",
   "metadata": {},
   "outputs": [
    {
     "name": "stdout",
     "output_type": "stream",
     "text": [
      "Mean: 289 [nm]\n",
      "Median: 228 [nm]\n",
      "Variance: 202 [nm]\n"
     ]
    }
   ],
   "source": [
    "print('Mean: {:.0f} [nm]'.format(np.mean(data)))\n",
    "print('Median: {:.0f} [nm]'.format(np.median(data)))\n",
    "print('Variance: {:.0f} [nm]'.format(np.std(data)))"
   ]
  },
  {
   "cell_type": "code",
   "execution_count": 21,
   "id": "40857bc7",
   "metadata": {},
   "outputs": [],
   "source": [
    "def calculate_lower_percentage(lst, number):\n",
    "    lower_count = sum(1 for n in lst if n < number)\n",
    "    lower_percentage = (lower_count / len(lst)) * 100\n",
    "    return lower_percentage"
   ]
  },
  {
   "cell_type": "code",
   "execution_count": 22,
   "id": "24df7bf0",
   "metadata": {},
   "outputs": [
    {
     "name": "stdout",
     "output_type": "stream",
     "text": [
      "The percentage of routes covered from a design mission of 200 NM is: 42.8%\n",
      "The percentage of routes covered from a design mission of 450 NM is: 80.1%\n",
      "The percentage of routes covered from a design mission of 600 NM is: 88.4%\n"
     ]
    }
   ],
   "source": [
    "percentage_lower = calculate_lower_percentage(data, 200)\n",
    "print(\"The percentage of routes covered from a design mission of 200 NM is: {:.1f}%\".format(percentage_lower))\n",
    "percentage_lower = calculate_lower_percentage(data, 450)\n",
    "print(\"The percentage of routes covered from a design mission of 450 NM is: {:.1f}%\".format(percentage_lower))\n",
    "percentage_lower = calculate_lower_percentage(data, 600)\n",
    "print(\"The percentage of routes covered from a design mission of 600 NM is: {:.1f}%\".format(percentage_lower))"
   ]
  },
  {
   "cell_type": "markdown",
   "id": "0c0bd12d",
   "metadata": {},
   "source": [
    "## Runway analysis"
   ]
  },
  {
   "cell_type": "code",
   "execution_count": null,
   "id": "87b9df33",
   "metadata": {},
   "outputs": [],
   "source": [
    "runway_info = {}\n",
    "\n",
    "for airport_num in range(0,len(airports)):\n",
    "    i = 0\n",
    "    \n",
    "    if type(airports.iloc[airport_num].runways) == float:\n",
    "        flag = pd.isnull(airports.iloc[airport_num].runways)\n",
    "    elif type(airports.iloc[airport_num].runways) == list:\n",
    "        flag = pd.isnull(airports.iloc[airport_num].runways).any()\n",
    "            \n",
    "    if flag != True:\n",
    "        for runway_num in range(0,len(airports.iloc[airport_num].runways)):\n",
    "            runway_info[\"%s_%s\"%(airports.iloc[airport_num].icaoCode,i)] = airports.iloc[airport_num].runways[runway_num]\n",
    "            i += 1"
   ]
  },
  {
   "cell_type": "code",
   "execution_count": null,
   "id": "abbf9876",
   "metadata": {},
   "outputs": [],
   "source": [
    "df_runway = pd.DataFrame.from_dict(runway_info, orient ='index')\n",
    "df_runway = df_runway.drop(labels=['trueHeading', 'alignedTrueNorth', 'turnDirection', 'operations', \n",
    "                                   'pilotCtrlLighting', '_id', 'visualApproachAids'], axis=1)\n",
    "\n",
    "# Assign the latitute and longitute as new columns\n",
    "tora = []\n",
    "lda = []\n",
    "runway_material = []\n",
    "runway_width = []\n",
    "\n",
    "for runway in range(0,len(df_runway)):\n",
    "    tora.append(df_runway.iloc[runway][\"declaredDistance\"]['tora']['value'])\n",
    "    lda.append(df_runway.iloc[runway][\"declaredDistance\"]['lda']['value'])\n",
    "    runway_material.append(df_runway.iloc[runway][\"surface\"]['composition'][0])\n",
    "    runway_width.append(df_runway.iloc[runway][\"dimension\"]['width']['value'])\n",
    "    \n",
    "df_runway['tora'] = tora\n",
    "df_runway['lda'] = lda\n",
    "df_runway['runway_material'] = runway_material\n",
    "df_runway['runway_width'] = runway_width"
   ]
  },
  {
   "cell_type": "markdown",
   "id": "3f09d92f",
   "metadata": {},
   "source": [
    "## Runway material description\n",
    "0: Asphalt\n",
    "1: Concrete\n",
    "2: Grass\n",
    "3: Sand\n",
    "4: Water\n",
    "5: Bituminous tar or asphalt (\"earth cement\")\n",
    "6: Brick\n",
    "7: Macadam or tarmac surface consisting of water-bound crushed rock\n",
    "8: Stone\n",
    "9: Coral\n",
    "10: Clay\n",
    "11: Laterite - a high iron clay formed in tropical areas\n",
    "12: Gravel\n",
    "13: Earth\n",
    "14: Ice\n",
    "15: Snow\n",
    "16: Protective laminate usually made of rubber\n",
    "17: Metal\n",
    "18: Landing mat portable system usually made of aluminium\n",
    "19: Pierced steel planking\n",
    "20: Wood\n",
    "21: Non Bituminous mix\n",
    "22: Unknown"
   ]
  },
  {
   "cell_type": "code",
   "execution_count": null,
   "id": "751443c6",
   "metadata": {},
   "outputs": [],
   "source": [
    "runway_material_str = []\n",
    "\n",
    "for value in df_runway.runway_material.values:\n",
    "    \n",
    "    if value == 0:\n",
    "        runway_material_str.append(\"Asphalt\")\n",
    "    elif value == 1:\n",
    "        runway_material_str.append(\"Concrete\")\n",
    "    elif value == 2:\n",
    "        runway_material_str.append(\"Grass\")\n",
    "    elif value == 3:\n",
    "        runway_material_str.append(\"Sand\")\n",
    "    elif value == 4:\n",
    "        runway_material_str.append(\"Water\")\n",
    "    elif value == 5:\n",
    "        runway_material_str.append(\"Bituminous tar or asphalt\")\n",
    "    elif value == 6:\n",
    "        runway_material_str.append(\"Brick\")\n",
    "    elif value == 7:\n",
    "        runway_material_str.append(\"Macadam\")\n",
    "    elif value == 8:\n",
    "        runway_material_str.append(\"Stone\")\n",
    "    elif value == 9:\n",
    "        runway_material_str.append(\"Coral\")\n",
    "    elif value == 10:\n",
    "        runway_material_str.append(\"Clay\")\n",
    "    elif value == 11:\n",
    "        runway_material_str.append(\"Laterite\")\n",
    "    elif value == 12:\n",
    "        runway_material_str.append(\"Gravel\")\n",
    "    elif value == 13:\n",
    "        runway_material_str.append(\"Earth\")\n",
    "    elif value == 14:\n",
    "        runway_material_str.append(\"Ice\")\n",
    "    elif value == 15:\n",
    "        runway_material_str.append(\"Snow\")\n",
    "    elif value == 16:\n",
    "        runway_material_str.append(\"Protective laminate\")\n",
    "    elif value == 17:\n",
    "        runway_material_str.append(\"Metal\")\n",
    "    elif value == 18:\n",
    "        runway_material_str.append(\"Landing mat\")\n",
    "    elif value == 19:\n",
    "        runway_material_str.append(\"Pierced steel planking\")\n",
    "    elif value == 20:\n",
    "        runway_material_str.append(\"Wood\")\n",
    "    elif value == 21:\n",
    "        runway_material_str.append(\"Non Bituminous mix\")\n",
    "    elif value == 22:\n",
    "        runway_material_str.append(\"Unknown\")\n",
    "\n",
    "df_runway['runway_material_str'] = runway_material_str"
   ]
  },
  {
   "cell_type": "code",
   "execution_count": null,
   "id": "b2030b2e",
   "metadata": {},
   "outputs": [],
   "source": [
    "data = df_runway.tora.values\n",
    "\n",
    "ftsize = 14\n",
    "plt.figure(figsize = [15,10])\n",
    "\n",
    "plt.hist(data, bins=10,  color='black', alpha=1, rwidth=0.85)\n",
    "plt.axvline(np.median(data), color='red', linestyle='dashed', linewidth=3)\n",
    "\n",
    "min_ylim, max_ylim = plt.ylim()\n",
    "plt.text(np.median(data)*1.11, max_ylim*0.9, 'Median: {:.0f} m'.format(np.median(data)), fontsize = ftsize,\n",
    "         bbox=dict(facecolor='white', edgecolor='black', pad=5.0))\n",
    "\n",
    "plt.title(\"Runway Takeoff Run Available (TORA) histogram - %s\"%(country), fontsize = 18)\n",
    "plt.xlabel('TORA [m]', fontsize = ftsize)\n",
    "plt.ylabel('Frequency', fontsize = ftsize)\n",
    "plt.yticks(fontsize=ftsize)\n",
    "plt.xticks(fontsize=ftsize)\n",
    "\n",
    "plt.savefig(\"plots/%s/TORA_distribution_%s.png\"%(country, country),\n",
    "            bbox_inches =\"tight\",\n",
    "            pad_inches = 0.5,\n",
    "            transparent = False,\n",
    "            facecolor =\"w\",\n",
    "            edgecolor ='w',\n",
    "            dpi=300)"
   ]
  },
  {
   "cell_type": "code",
   "execution_count": null,
   "id": "c192108d",
   "metadata": {},
   "outputs": [],
   "source": [
    "data = df_runway.lda.values\n",
    "\n",
    "ftsize = 14\n",
    "plt.figure(figsize = [15,10])\n",
    "\n",
    "plt.hist(data, bins=10,  color='black', alpha=1, rwidth=0.85)\n",
    "plt.axvline(np.median(data), color='red', linestyle='dashed', linewidth=3)\n",
    "\n",
    "min_ylim, max_ylim = plt.ylim()\n",
    "plt.text(np.median(data)*1.11, max_ylim*0.9, 'Median: {:.0f} m'.format(np.median(data)), fontsize = ftsize,\n",
    "         bbox=dict(facecolor='white', edgecolor='black', pad=5.0))\n",
    "\n",
    "plt.title(\"Runway Landing Distance Available (LDA) histogram - %s\"%(country), fontsize = 18)\n",
    "plt.xlabel('LDA [m]', fontsize = ftsize)\n",
    "plt.ylabel('Frequency', fontsize = ftsize)\n",
    "plt.yticks(fontsize=ftsize)\n",
    "plt.xticks(fontsize=ftsize)\n",
    "\n",
    "plt.savefig(\"plots/%s/LDA_distribution_%s.png\"%(country, country),\n",
    "            bbox_inches =\"tight\",\n",
    "            pad_inches = 0.5,\n",
    "            transparent = False,\n",
    "            facecolor =\"w\",\n",
    "            edgecolor ='w',\n",
    "            dpi=300)"
   ]
  },
  {
   "cell_type": "code",
   "execution_count": null,
   "id": "500ad6c0",
   "metadata": {},
   "outputs": [],
   "source": [
    "data = df_runway.runway_width.values\n",
    "\n",
    "ftsize = 14\n",
    "plt.figure(figsize = [15,10])\n",
    "\n",
    "plt.hist(data, bins=10,  color='black', alpha=1, rwidth=0.85)\n",
    "plt.axvline(np.median(data), color='red', linestyle='dashed', linewidth=3)\n",
    "\n",
    "min_ylim, max_ylim = plt.ylim()\n",
    "plt.text(np.median(data)*1.11, max_ylim*0.9, 'Median: {:.0f} m'.format(np.median(data)), fontsize = ftsize,\n",
    "         bbox=dict(facecolor='white', edgecolor='black', pad=5.0))\n",
    "\n",
    "plt.title(\"Runway width histogram - %s\"%(country), fontsize = 18)\n",
    "plt.xlabel('Runway width [m]', fontsize = ftsize)\n",
    "plt.ylabel('Frequency', fontsize = ftsize)\n",
    "plt.yticks(fontsize=ftsize)\n",
    "plt.xticks(fontsize=ftsize)\n",
    "\n",
    "plt.savefig(\"plots/%s/runway_width_distribution_%s.png\"%(country, country),\n",
    "            bbox_inches =\"tight\",\n",
    "            pad_inches = 0.5,\n",
    "            transparent = False,\n",
    "            facecolor =\"w\",\n",
    "            edgecolor ='w',\n",
    "            dpi=300)"
   ]
  },
  {
   "cell_type": "code",
   "execution_count": null,
   "id": "f1bd95a9",
   "metadata": {},
   "outputs": [],
   "source": [
    "data = df_runway.runway_material_str.values\n",
    "\n",
    "u, inv = np.unique(data, return_inverse=True)\n",
    "counts = np.bincount(inv)\n",
    "\n",
    "ftsize = 14\n",
    "plt.figure(figsize = [10,10])\n",
    "\n",
    "plt.bar(u, counts, width=0.5, color='black')\n",
    "\n",
    "plt.title(\"Runway material - %s\"%(country), fontsize = 18)\n",
    "plt.xlabel('Runway material', fontsize = ftsize)\n",
    "plt.ylabel('Frequency', fontsize = ftsize)\n",
    "plt.yticks(fontsize=ftsize)\n",
    "plt.xticks(fontsize=ftsize)\n",
    "\n",
    "plt.savefig(\"plots/%s/runway_material_distribution_%s.png\"%(country, country),\n",
    "            bbox_inches =\"tight\",\n",
    "            pad_inches = 0.5,\n",
    "            transparent = False,\n",
    "            facecolor =\"w\",\n",
    "            edgecolor ='w',\n",
    "            dpi=300)"
   ]
  },
  {
   "cell_type": "code",
   "execution_count": null,
   "id": "71b0028f",
   "metadata": {},
   "outputs": [],
   "source": []
  }
 ],
 "metadata": {
  "kernelspec": {
   "display_name": "Python 3 (ipykernel)",
   "language": "python",
   "name": "python3"
  },
  "language_info": {
   "codemirror_mode": {
    "name": "ipython",
    "version": 3
   },
   "file_extension": ".py",
   "mimetype": "text/x-python",
   "name": "python",
   "nbconvert_exporter": "python",
   "pygments_lexer": "ipython3",
   "version": "3.9.7"
  }
 },
 "nbformat": 4,
 "nbformat_minor": 5
}
